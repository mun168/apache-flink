{
 "cells": [
  {
   "cell_type": "markdown",
   "id": "3be2d3d3-b746-488f-ae6d-064f8fd7361a",
   "metadata": {},
   "source": [
    "# Getting Started with PyFLink with Soumil Shah"
   ]
  },
  {
   "cell_type": "markdown",
   "id": "a52feb8b-4dc1-43c0-99df-df654d93f8dc",
   "metadata": {},
   "source": [
    "# Step 1: Install Libraray and Packages "
   ]
  },
  {
   "cell_type": "code",
   "execution_count": 1,
   "id": "28560b66-8cb2-4b8e-b89f-4a2492eb7bd2",
   "metadata": {},
   "outputs": [
    {
     "name": "stdout",
     "output_type": "stream",
     "text": [
      "Collecting Faker\n",
      "  Using cached Faker-33.3.0-py3-none-any.whl.metadata (15 kB)\n",
      "Requirement already satisfied: python-dateutil>=2.4 in /opt/anaconda3/envs/apache_flink_practice/lib/python3.10/site-packages (from Faker) (2.9.0.post0)\n",
      "Requirement already satisfied: typing-extensions in /opt/anaconda3/envs/apache_flink_practice/lib/python3.10/site-packages (from Faker) (4.12.2)\n",
      "Requirement already satisfied: six>=1.5 in /opt/anaconda3/envs/apache_flink_practice/lib/python3.10/site-packages (from python-dateutil>=2.4->Faker) (1.17.0)\n",
      "Using cached Faker-33.3.0-py3-none-any.whl (1.9 MB)\n",
      "Installing collected packages: Faker\n",
      "Successfully installed Faker-33.3.0\n"
     ]
    }
   ],
   "source": [
    "! pip install Faker"
   ]
  },
  {
   "cell_type": "code",
   "execution_count": 2,
   "id": "531a1077-b025-4bd5-87db-353a4f00ae29",
   "metadata": {},
   "outputs": [
    {
     "name": "stdout",
     "output_type": "stream",
     "text": [
      "Name: apache-flink\n",
      "Version: 1.20.0\n",
      "Summary: Apache Flink Python API\n",
      "Home-page: https://flink.apache.org\n",
      "Author: Apache Software Foundation\n",
      "Author-email: dev@flink.apache.org\n",
      "License: https://www.apache.org/licenses/LICENSE-2.0\n",
      "Location: /opt/anaconda3/envs/apache_flink_practice/lib/python3.10/site-packages\n",
      "Requires: apache-beam, apache-flink-libraries, avro-python3, cloudpickle, fastavro, httplib2, numpy, pandas, pemja, protobuf, py4j, pyarrow, python-dateutil, pytz, requests, ruamel.yaml\n",
      "Required-by: \n"
     ]
    }
   ],
   "source": [
    "! pip show apache-flink"
   ]
  },
  {
   "cell_type": "code",
   "execution_count": 3,
   "id": "df82021d-53d4-448b-8b00-eb53661a4cee",
   "metadata": {},
   "outputs": [
    {
     "name": "stdout",
     "output_type": "stream",
     "text": [
      "openjdk version \"21.0.1\" 2023-10-17 LTS\n",
      "OpenJDK Runtime Environment Corretto-21.0.1.12.1 (build 21.0.1+12-LTS)\n",
      "OpenJDK 64-Bit Server VM Corretto-21.0.1.12.1 (build 21.0.1+12-LTS, mixed mode, sharing)\n"
     ]
    }
   ],
   "source": [
    "! java -version"
   ]
  },
  {
   "cell_type": "markdown",
   "id": "2f15a885-57c4-4291-920f-cf51c361fa9a",
   "metadata": {},
   "source": [
    "# Step 2 : Basics "
   ]
  },
  {
   "cell_type": "markdown",
   "id": "519ffd6a-777b-44df-9b90-bbf17bd08f3f",
   "metadata": {},
   "source": [
    "# PyFlink Offers \n",
    "* DataStream API\n",
    "* Table API "
   ]
  },
  {
   "cell_type": "markdown",
   "id": "bd5be62b-dc66-4444-b9c2-baffaed0d134",
   "metadata": {},
   "source": [
    "# Table API \n",
    "* Apache Flink offers a Table API as a unified, relational API for batch and stream processing, i.e., queries are executed with the same semantics on unbounded, real-time streams or bounded, batch data sets and produce the same results. The Table API in Flink is commonly used to ease the definition of data analytics, data pipelining, and ETL applications."
   ]
  },
  {
   "cell_type": "markdown",
   "id": "6458407d-9f9f-4d55-848e-d37249a71c8d",
   "metadata": {},
   "source": [
    "## Table Enviroment \n",
    "\n",
    "\n",
    "-> streaming TableEnvironment\n",
    "```\n",
    "env_settings = EnvironmentSettings.in_streaming_mode()\n",
    "table_env = TableEnvironment.create(env_settings)\n",
    "```\n",
    "\n",
    "\n",
    "->batch TableEnvironment\n",
    "```\n",
    "env_settings = EnvironmentSettings.in_batch_mode()\n",
    "table_env = TableEnvironment.create(env_settings)\n",
    "```\n"
   ]
  },
  {
   "cell_type": "markdown",
   "id": "708adb8e-7a5f-4e85-a2df-fccea3037349",
   "metadata": {},
   "source": [
    "#### Creating DataFraeme from LIst of Tuples"
   ]
  },
  {
   "cell_type": "code",
   "execution_count": 8,
   "id": "6b61c130-09b7-4bb2-bae6-487abb14c72b",
   "metadata": {},
   "outputs": [
    {
     "name": "stdout",
     "output_type": "stream",
     "text": [
      "+--------------------------------+--------------------------------+--------------------------------+\n",
      "|                           name |                           city |                          state |\n",
      "+--------------------------------+--------------------------------+--------------------------------+\n",
      "|                  Logan Johnson |                West Lauriefort |                       Michigan |\n",
      "|                Zachary Jenkins |                   North Daniel |                         Oregon |\n",
      "|                Courtney Wright |                    Port Joseph |                    Connecticut |\n",
      "|                  Alicia Wagner |                      Leachbury |                     New Mexico |\n",
      "|                Elizabeth Scott |              West Jeffreymouth |                       Oklahoma |\n",
      "|                 Jessica Torres |                      Emilyfort |                        Indiana |\n",
      "|                   Shawn Martin |          North Jonathanborough |                       Arkansas |\n",
      "|                 Samuel Hampton |                   Williamville |                     New Mexico |\n",
      "|                  Sarah Kennedy |                    Thomasmouth |                    Mississippi |\n",
      "|                      Emily May |                      Whitefort |                        Wyoming |\n",
      "+--------------------------------+--------------------------------+--------------------------------+\n",
      "10 rows in set\n"
     ]
    }
   ],
   "source": [
    "from pyflink.table import EnvironmentSettings, TableEnvironment\n",
    "from faker import Faker\n",
    "\n",
    "# Create a batch TableEnvironment\n",
    "env_settings = EnvironmentSettings.in_batch_mode()\n",
    "table_env = TableEnvironment.create(env_settings)\n",
    "\n",
    "# Initialize Faker\n",
    "fake = Faker()\n",
    "\n",
    "# Generate fake data and convert it into a PyFlink table with column names\n",
    "data = [(fake.name(), fake.city(), fake.state()) for _ in range(10)]  # Generate 10 rows of fake data\n",
    "\n",
    "# Define column names\n",
    "column_names = [\"name\", \"city\", \"state\"]\n",
    "\n",
    "# Create a PyFlink table with column names\n",
    "table = table_env.from_elements(data, schema=column_names)\n",
    "\n",
    "# Print the table\n",
    "table.execute().print()\n"
   ]
  },
  {
   "cell_type": "markdown",
   "id": "2cd22d4b-ee31-4bb9-9d75-97fb07a33184",
   "metadata": {},
   "source": [
    "# Creating Temp View \n"
   ]
  },
  {
   "cell_type": "code",
   "execution_count": 9,
   "id": "6eec0a75-12f9-4ba8-a045-0c91b58dfb06",
   "metadata": {},
   "outputs": [
    {
     "name": "stdout",
     "output_type": "stream",
     "text": [
      "+--------------------------------+--------------------------------+--------------------------------+\n",
      "|                           name |                           city |                          state |\n",
      "+--------------------------------+--------------------------------+--------------------------------+\n",
      "|                  Logan Johnson |                West Lauriefort |                       Michigan |\n",
      "|                Zachary Jenkins |                   North Daniel |                         Oregon |\n",
      "|                Courtney Wright |                    Port Joseph |                    Connecticut |\n",
      "|                  Alicia Wagner |                      Leachbury |                     New Mexico |\n",
      "|                Elizabeth Scott |              West Jeffreymouth |                       Oklahoma |\n",
      "|                 Jessica Torres |                      Emilyfort |                        Indiana |\n",
      "|                   Shawn Martin |          North Jonathanborough |                       Arkansas |\n",
      "|                 Samuel Hampton |                   Williamville |                     New Mexico |\n",
      "|                  Sarah Kennedy |                    Thomasmouth |                    Mississippi |\n",
      "|                      Emily May |                      Whitefort |                        Wyoming |\n",
      "+--------------------------------+--------------------------------+--------------------------------+\n",
      "10 rows in set\n"
     ]
    }
   ],
   "source": [
    "table_env.create_temporary_view('source_table', table)\n",
    "\n",
    "table_env.execute_sql(f\"SELECT * FROM source_table \").print()"
   ]
  },
  {
   "cell_type": "markdown",
   "id": "28b0e594-1a92-4e87-a928-de2ec2fc7f68",
   "metadata": {},
   "source": [
    "### Selecting a column"
   ]
  },
  {
   "cell_type": "code",
   "execution_count": 13,
   "id": "a9ddd7f8-d0e9-4aa6-a065-339487fa739f",
   "metadata": {},
   "outputs": [
    {
     "name": "stdout",
     "output_type": "stream",
     "text": [
      "+--------------------------------+--------------------------------+\n",
      "|                           name |                           city |\n",
      "+--------------------------------+--------------------------------+\n",
      "|                  Logan Johnson |                West Lauriefort |\n",
      "|                Zachary Jenkins |                   North Daniel |\n",
      "|                Courtney Wright |                    Port Joseph |\n",
      "|                  Alicia Wagner |                      Leachbury |\n",
      "|                Elizabeth Scott |              West Jeffreymouth |\n",
      "|                 Jessica Torres |                      Emilyfort |\n",
      "|                   Shawn Martin |          North Jonathanborough |\n",
      "|                 Samuel Hampton |                   Williamville |\n",
      "|                  Sarah Kennedy |                    Thomasmouth |\n",
      "|                      Emily May |                      Whitefort |\n",
      "+--------------------------------+--------------------------------+\n",
      "10 rows in set\n"
     ]
    }
   ],
   "source": [
    "table.select(col(\"name\"), col(\"city\")).execute().print()"
   ]
  },
  {
   "cell_type": "markdown",
   "id": "e3b7a235-3140-4603-8759-c80008d4b61a",
   "metadata": {},
   "source": [
    "### Filtering Data"
   ]
  },
  {
   "cell_type": "code",
   "execution_count": 15,
   "id": "044aac9e-279e-4f6d-aa4e-0506a8bfe325",
   "metadata": {},
   "outputs": [
    {
     "name": "stdout",
     "output_type": "stream",
     "text": [
      "+--------------------------------+--------------------------------+--------------------------------+\n",
      "|                           name |                           city |                          state |\n",
      "+--------------------------------+--------------------------------+--------------------------------+\n",
      "|                Courtney Wright |                    Port Joseph |                    Connecticut |\n",
      "+--------------------------------+--------------------------------+--------------------------------+\n",
      "1 row in set\n"
     ]
    }
   ],
   "source": [
    "from pyflink.table.expressions import col\n",
    "\n",
    "table \\\n",
    "    .select(col(\"name\"), col(\"city\"), col(\"state\")) \\\n",
    "    .where(col(\"state\") == 'Connecticut') \\\n",
    "    .execute().print()"
   ]
  },
  {
   "cell_type": "markdown",
   "id": "291aebc2-85df-4069-b191-ac87ade554fd",
   "metadata": {},
   "source": [
    "### Group By"
   ]
  },
  {
   "cell_type": "code",
   "execution_count": 16,
   "id": "70632e3f-4ef5-41ec-856b-c52855f98f5d",
   "metadata": {},
   "outputs": [
    {
     "name": "stdout",
     "output_type": "stream",
     "text": [
      "+--------------------------------+----------------------+\n",
      "|                          state |                count |\n",
      "+--------------------------------+----------------------+\n",
      "|                        Indiana |                    1 |\n",
      "|                       Oklahoma |                    1 |\n",
      "|                    Mississippi |                    1 |\n",
      "|                    Connecticut |                    1 |\n",
      "|                        Wyoming |                    1 |\n",
      "|                         Oregon |                    1 |\n",
      "|                       Arkansas |                    1 |\n",
      "|                       Michigan |                    1 |\n",
      "|                     New Mexico |                    2 |\n",
      "+--------------------------------+----------------------+\n",
      "9 rows in set\n"
     ]
    }
   ],
   "source": [
    "table \\\n",
    "    .group_by(col(\"state\")) \\\n",
    "    .select(col(\"state\").alias(\"state\"), col(\"name\").count.alias(\"count\")) \\\n",
    "    .execute().print()"
   ]
  },
  {
   "cell_type": "markdown",
   "id": "c2347ae3-ba80-419a-aa7d-00ebbef47e5d",
   "metadata": {},
   "source": [
    "# Creating SINK"
   ]
  },
  {
   "cell_type": "code",
   "execution_count": 17,
   "id": "cad34630-20b5-499f-8c8b-9667aedb7ac5",
   "metadata": {},
   "outputs": [
    {
     "name": "stdout",
     "output_type": "stream",
     "text": [
      "1> +I[Logan Johnson, West Lauriefort, Michigan]\n",
      "1> +I[Zachary Jenkins, North Daniel, Oregon]\n",
      "1> +I[Courtney Wright, Port Joseph, Connecticut]\n",
      "1> +I[Alicia Wagner, Leachbury, New Mexico]\n",
      "1> +I[Elizabeth Scott, West Jeffreymouth, Oklahoma]\n",
      "1> +I[Jessica Torres, Emilyfort, Indiana]\n",
      "1> +I[Shawn Martin, North Jonathanborough, Arkansas]\n",
      "1> +I[Samuel Hampton, Williamville, New Mexico]\n",
      "1> +I[Sarah Kennedy, Thomasmouth, Mississippi]\n",
      "1> +I[Emily May, Whitefort, Wyoming]\n"
     ]
    }
   ],
   "source": [
    "table_env.execute_sql(\"\"\"\n",
    "    CREATE TABLE print_sink (\n",
    "        name STRING, \n",
    "        city STRING,\n",
    "        state STRING\n",
    "    ) WITH (\n",
    "        'connector' = 'print'\n",
    "    )\n",
    "\"\"\")\n",
    "\n",
    "table_env.execute_sql(\"\"\"\n",
    "    INSERT INTO print_sink\n",
    "        SELECT * FROM source_table\n",
    "\"\"\").wait()\n",
    "\n"
   ]
  },
  {
   "cell_type": "markdown",
   "id": "8e60d36e-3838-4f82-a202-264c7e65e51a",
   "metadata": {},
   "source": [
    "# Collect Results to Client "
   ]
  },
  {
   "cell_type": "code",
   "execution_count": 18,
   "id": "c7280dd6-4760-4085-b731-ade3ca5b99d0",
   "metadata": {},
   "outputs": [
    {
     "name": "stdout",
     "output_type": "stream",
     "text": [
      "<Row('Logan Johnson', 'West Lauriefort', 'Michigan')>\n",
      "<Row('Zachary Jenkins', 'North Daniel', 'Oregon')>\n",
      "<Row('Courtney Wright', 'Port Joseph', 'Connecticut')>\n",
      "<Row('Alicia Wagner', 'Leachbury', 'New Mexico')>\n",
      "<Row('Elizabeth Scott', 'West Jeffreymouth', 'Oklahoma')>\n",
      "<Row('Jessica Torres', 'Emilyfort', 'Indiana')>\n",
      "<Row('Shawn Martin', 'North Jonathanborough', 'Arkansas')>\n",
      "<Row('Samuel Hampton', 'Williamville', 'New Mexico')>\n",
      "<Row('Sarah Kennedy', 'Thomasmouth', 'Mississippi')>\n",
      "<Row('Emily May', 'Whitefort', 'Wyoming')>\n"
     ]
    }
   ],
   "source": [
    "table_result = table_env.execute_sql(f\"SELECT * FROM source_table \")\n",
    "\n",
    "with table_result.collect() as results:\n",
    "   for result in results:\n",
    "       print(result)\n"
   ]
  },
  {
   "cell_type": "markdown",
   "id": "8f7c75a2-3512-43db-b473-e4d8c3d62d1c",
   "metadata": {},
   "source": [
    "# Convert Pandas DataFrame to PyFlink Table and Vice Versa"
   ]
  },
  {
   "cell_type": "code",
   "execution_count": 20,
   "id": "5f612c87-889a-4385-8242-66f5b6f787cf",
   "metadata": {},
   "outputs": [
    {
     "data": {
      "text/html": [
       "<div>\n",
       "<style scoped>\n",
       "    .dataframe tbody tr th:only-of-type {\n",
       "        vertical-align: middle;\n",
       "    }\n",
       "\n",
       "    .dataframe tbody tr th {\n",
       "        vertical-align: top;\n",
       "    }\n",
       "\n",
       "    .dataframe thead th {\n",
       "        text-align: right;\n",
       "    }\n",
       "</style>\n",
       "<table border=\"1\" class=\"dataframe\">\n",
       "  <thead>\n",
       "    <tr style=\"text-align: right;\">\n",
       "      <th></th>\n",
       "      <th>name</th>\n",
       "      <th>city</th>\n",
       "      <th>state</th>\n",
       "    </tr>\n",
       "  </thead>\n",
       "  <tbody>\n",
       "    <tr>\n",
       "      <th>0</th>\n",
       "      <td>Logan Johnson</td>\n",
       "      <td>West Lauriefort</td>\n",
       "      <td>Michigan</td>\n",
       "    </tr>\n",
       "    <tr>\n",
       "      <th>1</th>\n",
       "      <td>Zachary Jenkins</td>\n",
       "      <td>North Daniel</td>\n",
       "      <td>Oregon</td>\n",
       "    </tr>\n",
       "    <tr>\n",
       "      <th>2</th>\n",
       "      <td>Courtney Wright</td>\n",
       "      <td>Port Joseph</td>\n",
       "      <td>Connecticut</td>\n",
       "    </tr>\n",
       "    <tr>\n",
       "      <th>3</th>\n",
       "      <td>Alicia Wagner</td>\n",
       "      <td>Leachbury</td>\n",
       "      <td>New Mexico</td>\n",
       "    </tr>\n",
       "    <tr>\n",
       "      <th>4</th>\n",
       "      <td>Elizabeth Scott</td>\n",
       "      <td>West Jeffreymouth</td>\n",
       "      <td>Oklahoma</td>\n",
       "    </tr>\n",
       "    <tr>\n",
       "      <th>5</th>\n",
       "      <td>Jessica Torres</td>\n",
       "      <td>Emilyfort</td>\n",
       "      <td>Indiana</td>\n",
       "    </tr>\n",
       "    <tr>\n",
       "      <th>6</th>\n",
       "      <td>Shawn Martin</td>\n",
       "      <td>North Jonathanborough</td>\n",
       "      <td>Arkansas</td>\n",
       "    </tr>\n",
       "    <tr>\n",
       "      <th>7</th>\n",
       "      <td>Samuel Hampton</td>\n",
       "      <td>Williamville</td>\n",
       "      <td>New Mexico</td>\n",
       "    </tr>\n",
       "    <tr>\n",
       "      <th>8</th>\n",
       "      <td>Sarah Kennedy</td>\n",
       "      <td>Thomasmouth</td>\n",
       "      <td>Mississippi</td>\n",
       "    </tr>\n",
       "    <tr>\n",
       "      <th>9</th>\n",
       "      <td>Emily May</td>\n",
       "      <td>Whitefort</td>\n",
       "      <td>Wyoming</td>\n",
       "    </tr>\n",
       "  </tbody>\n",
       "</table>\n",
       "</div>"
      ],
      "text/plain": [
       "              name                   city        state\n",
       "0    Logan Johnson        West Lauriefort     Michigan\n",
       "1  Zachary Jenkins           North Daniel       Oregon\n",
       "2  Courtney Wright            Port Joseph  Connecticut\n",
       "3    Alicia Wagner              Leachbury   New Mexico\n",
       "4  Elizabeth Scott      West Jeffreymouth     Oklahoma\n",
       "5   Jessica Torres              Emilyfort      Indiana\n",
       "6     Shawn Martin  North Jonathanborough     Arkansas\n",
       "7   Samuel Hampton           Williamville   New Mexico\n",
       "8    Sarah Kennedy            Thomasmouth  Mississippi\n",
       "9        Emily May              Whitefort      Wyoming"
      ]
     },
     "execution_count": 20,
     "metadata": {},
     "output_type": "execute_result"
    }
   ],
   "source": [
    "pandas_df = table.to_pandas()\n",
    "pandas_df"
   ]
  },
  {
   "cell_type": "code",
   "execution_count": 24,
   "id": "3cf02402-8095-4399-8f43-f9ecb7b8221a",
   "metadata": {},
   "outputs": [
    {
     "name": "stdout",
     "output_type": "stream",
     "text": [
      "+--------------------------------+--------------------------------+--------------------------------+\n",
      "|                           name |                           city |                          state |\n",
      "+--------------------------------+--------------------------------+--------------------------------+\n",
      "|                  Logan Johnson |                West Lauriefort |                       Michigan |\n",
      "|                Zachary Jenkins |                   North Daniel |                         Oregon |\n",
      "|                Courtney Wright |                    Port Joseph |                    Connecticut |\n",
      "|                  Alicia Wagner |                      Leachbury |                     New Mexico |\n",
      "|                Elizabeth Scott |              West Jeffreymouth |                       Oklahoma |\n",
      "|                 Jessica Torres |                      Emilyfort |                        Indiana |\n",
      "|                   Shawn Martin |          North Jonathanborough |                       Arkansas |\n",
      "|                 Samuel Hampton |                   Williamville |                     New Mexico |\n",
      "|                  Sarah Kennedy |                    Thomasmouth |                    Mississippi |\n",
      "|                      Emily May |                      Whitefort |                        Wyoming |\n",
      "+--------------------------------+--------------------------------+--------------------------------+\n",
      "10 rows in set\n"
     ]
    }
   ],
   "source": [
    "# Create a PyFlink Table from a Pandas DataFrame with the specified row type\n",
    "table_temp = table_env.from_pandas(pandas_df)\n",
    "table_temp.execute().print()"
   ]
  },
  {
   "cell_type": "code",
   "execution_count": null,
   "id": "d18b6647-bc19-4ebd-a205-1d2498595091",
   "metadata": {},
   "outputs": [],
   "source": []
  },
  {
   "cell_type": "markdown",
   "id": "ba761906-2bf2-4ee5-82a4-bd464c0ffef9",
   "metadata": {},
   "source": [
    "# UDF"
   ]
  },
  {
   "cell_type": "code",
   "execution_count": 25,
   "id": "776340e6-e67e-416e-a6c5-deceb5b09212",
   "metadata": {},
   "outputs": [
    {
     "name": "stdout",
     "output_type": "stream",
     "text": [
      "+--------------------------------+--------------------------------+--------------------------------+\n",
      "|                           name |                           city |                          state |\n",
      "+--------------------------------+--------------------------------+--------------------------------+\n",
      "|                  Logan Johnson |                West Lauriefort |                       Michigan |\n",
      "|                Zachary Jenkins |                   North Daniel |                         Oregon |\n",
      "|                Courtney Wright |                    Port Joseph |                    Connecticut |\n",
      "|                  Alicia Wagner |                      Leachbury |                     New Mexico |\n",
      "|                Elizabeth Scott |              West Jeffreymouth |                       Oklahoma |\n",
      "|                 Jessica Torres |                      Emilyfort |                        Indiana |\n",
      "|                   Shawn Martin |          North Jonathanborough |                       Arkansas |\n",
      "|                 Samuel Hampton |                   Williamville |                     New Mexico |\n",
      "|                  Sarah Kennedy |                    Thomasmouth |                    Mississippi |\n",
      "|                      Emily May |                      Whitefort |                        Wyoming |\n",
      "+--------------------------------+--------------------------------+--------------------------------+\n",
      "10 rows in set\n"
     ]
    }
   ],
   "source": [
    "table.execute().print()"
   ]
  },
  {
   "cell_type": "markdown",
   "id": "dd7b5c2b-94a9-44d4-8408-521e46e81985",
   "metadata": {},
   "source": [
    "# UDF"
   ]
  },
  {
   "cell_type": "code",
   "execution_count": 26,
   "id": "edf05154-2179-45bd-932f-58a65701068c",
   "metadata": {},
   "outputs": [
    {
     "ename": "NameError",
     "evalue": "name 'a' is not defined",
     "output_type": "error",
     "traceback": [
      "\u001b[0;31m---------------------------------------------------------------------------\u001b[0m",
      "\u001b[0;31mNameError\u001b[0m                                 Traceback (most recent call last)",
      "Cell \u001b[0;32mIn[26], line 14\u001b[0m\n\u001b[1;32m     10\u001b[0m \u001b[38;5;28;01mdef\u001b[39;00m\u001b[38;5;250m \u001b[39m\u001b[38;5;21mgenerate_guid\u001b[39m():\n\u001b[1;32m     11\u001b[0m     \u001b[38;5;28;01mreturn\u001b[39;00m \u001b[38;5;28mstr\u001b[39m(uuid\u001b[38;5;241m.\u001b[39muuid4())\n\u001b[0;32m---> 14\u001b[0m myhash \u001b[38;5;241m=\u001b[39m udf(functools\u001b[38;5;241m.\u001b[39mpartial(\u001b[43ma\u001b[49m), result_type\u001b[38;5;241m=\u001b[39m\u001b[38;5;124m'\u001b[39m\u001b[38;5;124mSTRING\u001b[39m\u001b[38;5;124m'\u001b[39m)\n\u001b[1;32m     16\u001b[0m result_table \u001b[38;5;241m=\u001b[39m table\u001b[38;5;241m.\u001b[39mselect(col(\u001b[38;5;124m\"\u001b[39m\u001b[38;5;124mcity\u001b[39m\u001b[38;5;124m\"\u001b[39m), col(\u001b[38;5;124m\"\u001b[39m\u001b[38;5;124mname\u001b[39m\u001b[38;5;124m\"\u001b[39m), call(myhash)\u001b[38;5;241m.\u001b[39malias(\u001b[38;5;124m\"\u001b[39m\u001b[38;5;124mguid\u001b[39m\u001b[38;5;124m\"\u001b[39m))\n\u001b[1;32m     18\u001b[0m result_table\u001b[38;5;241m.\u001b[39mexecute()\u001b[38;5;241m.\u001b[39mprint()\n",
      "\u001b[0;31mNameError\u001b[0m: name 'a' is not defined"
     ]
    }
   ],
   "source": [
    "import uuid\n",
    "import functools  # Import functools\n",
    "\n",
    "from pyflink.table.udf import udf\n",
    "from pyflink.table.expressions import col, call\n",
    "from pyflink.table import TableEnvironment, EnvironmentSettings\n",
    "\n",
    "\n",
    "\n",
    "def generate_guid():\n",
    "    return str(uuid.uuid4())\n",
    "\n",
    "\n",
    "myhash = udf(functools.partial(a), result_type='STRING')\n",
    "\n",
    "result_table = table.select(col(\"city\"), col(\"name\"), call(myhash).alias(\"guid\"))\n",
    "\n",
    "result_table.execute().print()"
   ]
  },
  {
   "cell_type": "markdown",
   "id": "64c82b5e-1d36-4472-84b0-e28260dc1603",
   "metadata": {},
   "source": [
    "# Referneces \n",
    "* https://nightlies.apache.org/flink/flink-docs-master/docs/dev/python/table/intro_to_table_api/"
   ]
  }
 ],
 "metadata": {
  "kernelspec": {
   "display_name": "Python 3 (ipykernel)",
   "language": "python",
   "name": "python3"
  },
  "language_info": {
   "codemirror_mode": {
    "name": "ipython",
    "version": 3
   },
   "file_extension": ".py",
   "mimetype": "text/x-python",
   "name": "python",
   "nbconvert_exporter": "python",
   "pygments_lexer": "ipython3",
   "version": "3.10.16"
  }
 },
 "nbformat": 4,
 "nbformat_minor": 5
}
